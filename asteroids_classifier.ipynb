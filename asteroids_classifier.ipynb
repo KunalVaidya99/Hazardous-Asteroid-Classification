{
  "nbformat": 4,
  "nbformat_minor": 0,
  "metadata": {
    "colab": {
      "name": "asteroids-classifier.ipynb",
      "provenance": [],
      "collapsed_sections": []
    },
    "kernelspec": {
      "display_name": "Python 3",
      "language": "python",
      "name": "python3"
    },
    "language_info": {
      "codemirror_mode": {
        "name": "ipython",
        "version": 3
      },
      "file_extension": ".py",
      "mimetype": "text/x-python",
      "name": "python",
      "nbconvert_exporter": "python",
      "pygments_lexer": "ipython3",
      "version": "3.7.6"
    }
  },
  "cells": [
    {
      "cell_type": "code",
      "metadata": {
        "colab": {
          "base_uri": "https://localhost:8080/"
        },
        "id": "qkeKh2C3hdB_",
        "outputId": "d9ead2e6-2035-4db2-bb40-c44dd7bdbf42"
      },
      "source": [
        "!pip install xgboost"
      ],
      "execution_count": null,
      "outputs": [
        {
          "output_type": "stream",
          "text": [
            "Requirement already satisfied: xgboost in /usr/local/lib/python3.6/dist-packages (0.90)\n",
            "Requirement already satisfied: numpy in /usr/local/lib/python3.6/dist-packages (from xgboost) (1.18.5)\n",
            "Requirement already satisfied: scipy in /usr/local/lib/python3.6/dist-packages (from xgboost) (1.4.1)\n"
          ],
          "name": "stdout"
        }
      ]
    },
    {
      "cell_type": "code",
      "metadata": {
        "id": "X_6vXlYCRXKk"
      },
      "source": [
        "import pandas as pd\n",
        "import numpy as np"
      ],
      "execution_count": null,
      "outputs": []
    },
    {
      "cell_type": "markdown",
      "metadata": {
        "id": "MtM24rF9YK66"
      },
      "source": [
        "Removing Unnecessary features"
      ]
    },
    {
      "cell_type": "code",
      "metadata": {
        "id": "GyC6Gs8EfBfy"
      },
      "source": [
        "nasa = pd.read_csv(\"nasa.csv\")\n",
        "del nasa['Name']\n",
        "del nasa['Neo Reference ID']\n",
        "del nasa[\"Close Approach Date\"]\n",
        "del nasa [\"Orbit Determination Date\"]\n",
        "del nasa[\"Orbiting Body\"]\n",
        "del nasa['Est Dia in Feet(max)']\n",
        "del nasa['Est Dia in Feet(min)']\n",
        "del nasa['Est Dia in M(max)']\n",
        "del nasa['Est Dia in Miles(max)']\n",
        "del nasa['Est Dia in Miles(min)']\n",
        "del nasa['Miles per hour']\n",
        "del nasa['Relative Velocity km per sec']\n",
        "del nasa['Equinox']\n",
        "del nasa['Epoch Date Close Approach']\n",
        "del nasa['Miss Dist.(Astronomical)']\n",
        "del nasa['Miss Dist.(lunar)']\n",
        "del nasa['Epoch Osculation']\n",
        "del nasa['Perihelion Time']"
      ],
      "execution_count": null,
      "outputs": []
    },
    {
      "cell_type": "code",
      "metadata": {
        "colab": {
          "base_uri": "https://localhost:8080/",
          "height": 399
        },
        "id": "aLx3O5lmP4BT",
        "outputId": "552e11e6-38ae-41fc-de86-31d5ef022a07"
      },
      "source": [
        "nasa.head(10)"
      ],
      "execution_count": null,
      "outputs": [
        {
          "output_type": "execute_result",
          "data": {
            "text/html": [
              "<div>\n",
              "<style scoped>\n",
              "    .dataframe tbody tr th:only-of-type {\n",
              "        vertical-align: middle;\n",
              "    }\n",
              "\n",
              "    .dataframe tbody tr th {\n",
              "        vertical-align: top;\n",
              "    }\n",
              "\n",
              "    .dataframe thead th {\n",
              "        text-align: right;\n",
              "    }\n",
              "</style>\n",
              "<table border=\"1\" class=\"dataframe\">\n",
              "  <thead>\n",
              "    <tr style=\"text-align: right;\">\n",
              "      <th></th>\n",
              "      <th>Absolute Magnitude</th>\n",
              "      <th>Est Dia in KM(min)</th>\n",
              "      <th>Est Dia in KM(max)</th>\n",
              "      <th>Est Dia in M(min)</th>\n",
              "      <th>Relative Velocity km per hr</th>\n",
              "      <th>Miss Dist.(kilometers)</th>\n",
              "      <th>Miss Dist.(miles)</th>\n",
              "      <th>Orbit ID</th>\n",
              "      <th>Orbit Uncertainity</th>\n",
              "      <th>Minimum Orbit Intersection</th>\n",
              "      <th>Jupiter Tisserand Invariant</th>\n",
              "      <th>Eccentricity</th>\n",
              "      <th>Semi Major Axis</th>\n",
              "      <th>Inclination</th>\n",
              "      <th>Asc Node Longitude</th>\n",
              "      <th>Orbital Period</th>\n",
              "      <th>Perihelion Distance</th>\n",
              "      <th>Perihelion Arg</th>\n",
              "      <th>Aphelion Dist</th>\n",
              "      <th>Mean Anomaly</th>\n",
              "      <th>Mean Motion</th>\n",
              "      <th>Hazardous</th>\n",
              "    </tr>\n",
              "  </thead>\n",
              "  <tbody>\n",
              "    <tr>\n",
              "      <th>0</th>\n",
              "      <td>21.6</td>\n",
              "      <td>0.127220</td>\n",
              "      <td>0.284472</td>\n",
              "      <td>127.219879</td>\n",
              "      <td>22017.003799</td>\n",
              "      <td>62753692.0</td>\n",
              "      <td>38993336.0</td>\n",
              "      <td>17</td>\n",
              "      <td>5</td>\n",
              "      <td>0.025282</td>\n",
              "      <td>4.634</td>\n",
              "      <td>0.425549</td>\n",
              "      <td>1.407011</td>\n",
              "      <td>6.025981</td>\n",
              "      <td>314.373913</td>\n",
              "      <td>609.599786</td>\n",
              "      <td>0.808259</td>\n",
              "      <td>57.257470</td>\n",
              "      <td>2.005764</td>\n",
              "      <td>264.837533</td>\n",
              "      <td>0.590551</td>\n",
              "      <td>True</td>\n",
              "    </tr>\n",
              "    <tr>\n",
              "      <th>1</th>\n",
              "      <td>21.3</td>\n",
              "      <td>0.146068</td>\n",
              "      <td>0.326618</td>\n",
              "      <td>146.067964</td>\n",
              "      <td>65210.346095</td>\n",
              "      <td>57298148.0</td>\n",
              "      <td>35603420.0</td>\n",
              "      <td>21</td>\n",
              "      <td>3</td>\n",
              "      <td>0.186935</td>\n",
              "      <td>5.457</td>\n",
              "      <td>0.351674</td>\n",
              "      <td>1.107776</td>\n",
              "      <td>28.412996</td>\n",
              "      <td>136.717242</td>\n",
              "      <td>425.869294</td>\n",
              "      <td>0.718200</td>\n",
              "      <td>313.091975</td>\n",
              "      <td>1.497352</td>\n",
              "      <td>173.741112</td>\n",
              "      <td>0.845330</td>\n",
              "      <td>False</td>\n",
              "    </tr>\n",
              "    <tr>\n",
              "      <th>2</th>\n",
              "      <td>20.3</td>\n",
              "      <td>0.231502</td>\n",
              "      <td>0.517654</td>\n",
              "      <td>231.502122</td>\n",
              "      <td>27326.560182</td>\n",
              "      <td>7622911.5</td>\n",
              "      <td>4736657.5</td>\n",
              "      <td>22</td>\n",
              "      <td>0</td>\n",
              "      <td>0.043058</td>\n",
              "      <td>4.557</td>\n",
              "      <td>0.348248</td>\n",
              "      <td>1.458824</td>\n",
              "      <td>4.237961</td>\n",
              "      <td>259.475979</td>\n",
              "      <td>643.580228</td>\n",
              "      <td>0.950791</td>\n",
              "      <td>248.415038</td>\n",
              "      <td>1.966857</td>\n",
              "      <td>292.893654</td>\n",
              "      <td>0.559371</td>\n",
              "      <td>True</td>\n",
              "    </tr>\n",
              "    <tr>\n",
              "      <th>3</th>\n",
              "      <td>27.4</td>\n",
              "      <td>0.008801</td>\n",
              "      <td>0.019681</td>\n",
              "      <td>8.801465</td>\n",
              "      <td>40225.948191</td>\n",
              "      <td>42683616.0</td>\n",
              "      <td>26522368.0</td>\n",
              "      <td>7</td>\n",
              "      <td>6</td>\n",
              "      <td>0.005512</td>\n",
              "      <td>5.093</td>\n",
              "      <td>0.216578</td>\n",
              "      <td>1.255903</td>\n",
              "      <td>7.905894</td>\n",
              "      <td>57.173266</td>\n",
              "      <td>514.082140</td>\n",
              "      <td>0.983902</td>\n",
              "      <td>18.707701</td>\n",
              "      <td>1.527904</td>\n",
              "      <td>68.741007</td>\n",
              "      <td>0.700277</td>\n",
              "      <td>False</td>\n",
              "    </tr>\n",
              "    <tr>\n",
              "      <th>4</th>\n",
              "      <td>21.6</td>\n",
              "      <td>0.127220</td>\n",
              "      <td>0.284472</td>\n",
              "      <td>127.219879</td>\n",
              "      <td>35426.991794</td>\n",
              "      <td>61010824.0</td>\n",
              "      <td>37910368.0</td>\n",
              "      <td>25</td>\n",
              "      <td>1</td>\n",
              "      <td>0.034798</td>\n",
              "      <td>5.154</td>\n",
              "      <td>0.210448</td>\n",
              "      <td>1.225615</td>\n",
              "      <td>16.793382</td>\n",
              "      <td>84.629307</td>\n",
              "      <td>495.597821</td>\n",
              "      <td>0.967687</td>\n",
              "      <td>158.263596</td>\n",
              "      <td>1.483543</td>\n",
              "      <td>135.142133</td>\n",
              "      <td>0.726395</td>\n",
              "      <td>True</td>\n",
              "    </tr>\n",
              "    <tr>\n",
              "      <th>5</th>\n",
              "      <td>19.6</td>\n",
              "      <td>0.319562</td>\n",
              "      <td>0.714562</td>\n",
              "      <td>319.561887</td>\n",
              "      <td>38911.838251</td>\n",
              "      <td>58759768.0</td>\n",
              "      <td>36511628.0</td>\n",
              "      <td>40</td>\n",
              "      <td>1</td>\n",
              "      <td>0.272213</td>\n",
              "      <td>4.724</td>\n",
              "      <td>0.563441</td>\n",
              "      <td>1.323532</td>\n",
              "      <td>17.927751</td>\n",
              "      <td>178.971951</td>\n",
              "      <td>556.160556</td>\n",
              "      <td>0.577800</td>\n",
              "      <td>198.145969</td>\n",
              "      <td>2.069265</td>\n",
              "      <td>354.237368</td>\n",
              "      <td>0.647295</td>\n",
              "      <td>False</td>\n",
              "    </tr>\n",
              "    <tr>\n",
              "      <th>6</th>\n",
              "      <td>19.6</td>\n",
              "      <td>0.319562</td>\n",
              "      <td>0.714562</td>\n",
              "      <td>319.561887</td>\n",
              "      <td>38911.829716</td>\n",
              "      <td>58759532.0</td>\n",
              "      <td>36511480.0</td>\n",
              "      <td>43</td>\n",
              "      <td>1</td>\n",
              "      <td>0.272213</td>\n",
              "      <td>4.724</td>\n",
              "      <td>0.563441</td>\n",
              "      <td>1.323532</td>\n",
              "      <td>17.927748</td>\n",
              "      <td>178.971953</td>\n",
              "      <td>556.160544</td>\n",
              "      <td>0.577800</td>\n",
              "      <td>198.145960</td>\n",
              "      <td>2.069265</td>\n",
              "      <td>354.237396</td>\n",
              "      <td>0.647295</td>\n",
              "      <td>False</td>\n",
              "    </tr>\n",
              "    <tr>\n",
              "      <th>7</th>\n",
              "      <td>19.2</td>\n",
              "      <td>0.384198</td>\n",
              "      <td>0.859093</td>\n",
              "      <td>384.197891</td>\n",
              "      <td>87918.782382</td>\n",
              "      <td>19324928.0</td>\n",
              "      <td>12007954.0</td>\n",
              "      <td>22</td>\n",
              "      <td>0</td>\n",
              "      <td>0.098758</td>\n",
              "      <td>4.921</td>\n",
              "      <td>0.449763</td>\n",
              "      <td>1.237475</td>\n",
              "      <td>34.695127</td>\n",
              "      <td>112.562984</td>\n",
              "      <td>502.808758</td>\n",
              "      <td>0.680905</td>\n",
              "      <td>288.374651</td>\n",
              "      <td>1.794045</td>\n",
              "      <td>186.776932</td>\n",
              "      <td>0.715978</td>\n",
              "      <td>False</td>\n",
              "    </tr>\n",
              "    <tr>\n",
              "      <th>8</th>\n",
              "      <td>17.8</td>\n",
              "      <td>0.732074</td>\n",
              "      <td>1.636967</td>\n",
              "      <td>732.073989</td>\n",
              "      <td>62545.621813</td>\n",
              "      <td>53598364.0</td>\n",
              "      <td>33304478.0</td>\n",
              "      <td>100</td>\n",
              "      <td>0</td>\n",
              "      <td>0.109354</td>\n",
              "      <td>5.386</td>\n",
              "      <td>0.238179</td>\n",
              "      <td>1.145551</td>\n",
              "      <td>22.215210</td>\n",
              "      <td>80.211132</td>\n",
              "      <td>447.837013</td>\n",
              "      <td>0.872705</td>\n",
              "      <td>353.422394</td>\n",
              "      <td>1.418397</td>\n",
              "      <td>182.236432</td>\n",
              "      <td>0.803864</td>\n",
              "      <td>False</td>\n",
              "    </tr>\n",
              "    <tr>\n",
              "      <th>9</th>\n",
              "      <td>21.5</td>\n",
              "      <td>0.133216</td>\n",
              "      <td>0.297879</td>\n",
              "      <td>133.215567</td>\n",
              "      <td>46438.594999</td>\n",
              "      <td>22709816.0</td>\n",
              "      <td>14111226.0</td>\n",
              "      <td>30</td>\n",
              "      <td>0</td>\n",
              "      <td>0.016907</td>\n",
              "      <td>6.623</td>\n",
              "      <td>0.551389</td>\n",
              "      <td>0.876125</td>\n",
              "      <td>2.059577</td>\n",
              "      <td>2.613682</td>\n",
              "      <td>299.535161</td>\n",
              "      <td>0.393040</td>\n",
              "      <td>253.765937</td>\n",
              "      <td>1.359211</td>\n",
              "      <td>119.861382</td>\n",
              "      <td>1.201862</td>\n",
              "      <td>True</td>\n",
              "    </tr>\n",
              "  </tbody>\n",
              "</table>\n",
              "</div>"
            ],
            "text/plain": [
              "   Absolute Magnitude  Est Dia in KM(min)  ...  Mean Motion  Hazardous\n",
              "0                21.6            0.127220  ...     0.590551       True\n",
              "1                21.3            0.146068  ...     0.845330      False\n",
              "2                20.3            0.231502  ...     0.559371       True\n",
              "3                27.4            0.008801  ...     0.700277      False\n",
              "4                21.6            0.127220  ...     0.726395       True\n",
              "5                19.6            0.319562  ...     0.647295      False\n",
              "6                19.6            0.319562  ...     0.647295      False\n",
              "7                19.2            0.384198  ...     0.715978      False\n",
              "8                17.8            0.732074  ...     0.803864      False\n",
              "9                21.5            0.133216  ...     1.201862       True\n",
              "\n",
              "[10 rows x 22 columns]"
            ]
          },
          "metadata": {
            "tags": []
          },
          "execution_count": 66
        }
      ]
    },
    {
      "cell_type": "markdown",
      "metadata": {
        "id": "CgaQfIPtipqj"
      },
      "source": [
        "Calculating Number of positive and negative samples"
      ]
    },
    {
      "cell_type": "code",
      "metadata": {
        "colab": {
          "base_uri": "https://localhost:8080/",
          "height": 281
        },
        "id": "iv7BNfizfBfy",
        "outputId": "ce5de329-708c-4567-e815-e275ed96e96e"
      },
      "source": [
        "import matplotlib.pyplot as plt\n",
        "true_samples = np.sum(nasa['Hazardous'] == True)\n",
        "false_samples = np.sum(nasa['Hazardous']==False)\n",
        "plt.bar([\"True\",\"False\"],height = [true_samples,false_samples])"
      ],
      "execution_count": null,
      "outputs": [
        {
          "output_type": "execute_result",
          "data": {
            "text/plain": [
              "<BarContainer object of 2 artists>"
            ]
          },
          "metadata": {
            "tags": []
          },
          "execution_count": 67
        },
        {
          "output_type": "display_data",
          "data": {
            "image/png": "[encoded data removed]",
            "text/plain": [
              "<Figure size 432x288 with 1 Axes>"
            ]
          },
          "metadata": {
            "tags": [],
            "needs_background": "light"
          }
        }
      ]
    },
    {
      "cell_type": "markdown",
      "metadata": {
        "id": "2e_Mve9fYgL7"
      },
      "source": [
        "Importing necessary packages"
      ]
    },
    {
      "cell_type": "code",
      "metadata": {
        "id": "iwDgOkXNfBfy"
      },
      "source": [
        "from sklearn.linear_model import LogisticRegression,SGDClassifier\n",
        "from sklearn.model_selection import train_test_split\n",
        "import sklearn\n",
        "import numpy as np"
      ],
      "execution_count": null,
      "outputs": []
    },
    {
      "cell_type": "markdown",
      "metadata": {
        "id": "OKTdyIn0YnJ7"
      },
      "source": [
        "Extracting out the True samples using boolean mask"
      ]
    },
    {
      "cell_type": "code",
      "metadata": {
        "colab": {
          "base_uri": "https://localhost:8080/"
        },
        "id": "xYSi-QwQfBfy",
        "outputId": "d60ad2be-b307-48fd-e438-66d8a5309788"
      },
      "source": [
        "nasa_true_mask = nasa['Hazardous'] ==True\n",
        "nasa_true = nasa[nasa_true_mask]\n",
        "len(nasa_true)"
      ],
      "execution_count": null,
      "outputs": [
        {
          "output_type": "execute_result",
          "data": {
            "text/plain": [
              "755"
            ]
          },
          "metadata": {
            "tags": []
          },
          "execution_count": 76
        }
      ]
    },
    {
      "cell_type": "code",
      "metadata": {
        "colab": {
          "base_uri": "https://localhost:8080/"
        },
        "id": "TqhbWf9zTtY1",
        "outputId": "22f71d8c-2c6a-4823-e1df-b4106736442f"
      },
      "source": [
        "np.array(nasa).shape"
      ],
      "execution_count": null,
      "outputs": [
        {
          "output_type": "execute_result",
          "data": {
            "text/plain": [
              "(4687, 22)"
            ]
          },
          "metadata": {
            "tags": []
          },
          "execution_count": 77
        }
      ]
    },
    {
      "cell_type": "markdown",
      "metadata": {
        "id": "MqU3xdK-fBfy"
      },
      "source": [
        "Using Bootstrapping to balance dataset"
      ]
    },
    {
      "cell_type": "code",
      "metadata": {
        "id": "UHVaEfC-fBfy"
      },
      "source": [
        "bootstrap = nasa_true.sample(3177,replace=True)\n",
        "    \n",
        "nasa = nasa.append(bootstrap)\n"
      ],
      "execution_count": null,
      "outputs": []
    },
    {
      "cell_type": "markdown",
      "metadata": {
        "id": "7OSzD8QhivhM"
      },
      "source": [
        "Labelling the Data"
      ]
    },
    {
      "cell_type": "code",
      "metadata": {
        "id": "12ESatHyfBfy"
      },
      "source": [
        "X,y = nasa.iloc[:,0:21],nasa.iloc[:,21]\n",
        "\n",
        "Scaler = sklearn.preprocessing.StandardScaler()\n",
        "Scaler.fit(X)\n",
        "X = Scaler.transform(X)\n",
        "\n",
        "binary = sklearn.preprocessing.LabelBinarizer(pos_label=1,neg_label=0)\n",
        "lb = binary.fit(y)\n",
        "y = lb.transform(y)"
      ],
      "execution_count": null,
      "outputs": []
    },
    {
      "cell_type": "markdown",
      "metadata": {
        "id": "WI0fhrGcYxmd"
      },
      "source": [
        "Splitting the data into train and test "
      ]
    },
    {
      "cell_type": "code",
      "metadata": {
        "id": "vJjdokuNfBfy"
      },
      "source": [
        "x_train,x_test,y_train,y_test = train_test_split(X,y,test_size=0.2,shuffle=True)"
      ],
      "execution_count": null,
      "outputs": []
    },
    {
      "cell_type": "markdown",
      "metadata": {
        "id": "oiWWhPI3Y5As"
      },
      "source": [
        "Fitting various models"
      ]
    },
    {
      "cell_type": "code",
      "metadata": {
        "colab": {
          "base_uri": "https://localhost:8080/"
        },
        "id": "H3CamWSgfBfy",
        "outputId": "de4a2b1b-4328-48f3-f65a-4c58afb89041"
      },
      "source": [
        "fitted_log =  LogisticRegression(solver='liblinear').fit(x_train,y_train)\n",
        "fitted_sgd = SGDClassifier(loss='log').fit(x_train,y_train)\n",
        "svm = sklearn.svm.SVC().fit(x_train,y_train)"
      ],
      "execution_count": null,
      "outputs": [
        {
          "output_type": "stream",
          "text": [
            "/usr/local/lib/python3.6/dist-packages/sklearn/utils/validation.py:760: DataConversionWarning: A column-vector y was passed when a 1d array was expected. Please change the shape of y to (n_samples, ), for example using ravel().\n",
            "  y = column_or_1d(y, warn=True)\n",
            "/usr/local/lib/python3.6/dist-packages/sklearn/utils/validation.py:760: DataConversionWarning: A column-vector y was passed when a 1d array was expected. Please change the shape of y to (n_samples, ), for example using ravel().\n",
            "  y = column_or_1d(y, warn=True)\n"
          ],
          "name": "stderr"
        }
      ]
    },
    {
      "cell_type": "code",
      "metadata": {
        "colab": {
          "base_uri": "https://localhost:8080/"
        },
        "id": "srPCv_4ofBfy",
        "outputId": "d5c1a9da-25f9-43f5-b25a-b9654e41b234"
      },
      "source": [
        "print(\"for logistic regression: \",fitted_log.score(x_test,y_test))\n",
        "print(\"for sgd classifier: \",fitted_sgd.score(x_test,y_test))\n",
        "print(\"for svm classifier: \",svm.score(x_test,y_test))"
      ],
      "execution_count": null,
      "outputs": [
        {
          "output_type": "stream",
          "text": [
            "for logistic regression:  0.9396058486967578\n",
            "for sgd classifier:  0.9389701207883026\n",
            "for svm classifier:  0.9624920534011443\n"
          ],
          "name": "stdout"
        }
      ]
    },
    {
      "cell_type": "code",
      "metadata": {
        "id": "qL9GtGu-fBfy"
      },
      "source": [
        "y_pred = fitted_log.predict(x_test)"
      ],
      "execution_count": null,
      "outputs": []
    },
    {
      "cell_type": "code",
      "metadata": {
        "colab": {
          "base_uri": "https://localhost:8080/",
          "height": 295
        },
        "id": "PgchZNvCi5pG",
        "outputId": "21a2c0df-0a50-4732-e668-22bd74a214e8"
      },
      "source": [
        "sklearn.metrics.plot_confusion_matrix(xgb,x_test, y_test,labels=None, sample_weight=None, normalize=None,values_format = '.5g')"
      ],
      "execution_count": null,
      "outputs": [
        {
          "output_type": "execute_result",
          "data": {
            "text/plain": [
              "<sklearn.metrics._plot.confusion_matrix.ConfusionMatrixDisplay at 0x7f1cb257a128>"
            ]
          },
          "metadata": {
            "tags": []
          },
          "execution_count": 113
        },
        {
          "output_type": "display_data",
          "data": {
            "image/png": "[encoded data removed]",
            "text/plain": [
              "<Figure size 432x288 with 2 Axes>"
            ]
          },
          "metadata": {
            "tags": [],
            "needs_background": "light"
          }
        }
      ]
    },
    {
      "cell_type": "markdown",
      "metadata": {
        "id": "d6TU2H3oY_93"
      },
      "source": [
        "Metrics for Logistic Regression"
      ]
    },
    {
      "cell_type": "code",
      "metadata": {
        "colab": {
          "base_uri": "https://localhost:8080/"
        },
        "id": "FYEyMofFfBfz",
        "outputId": "441091ac-2528-4718-f91c-77dcf73be2bb"
      },
      "source": [
        "import sklearn\n",
        "recall = sklearn.metrics.recall_score(y_test, y_pred)\n",
        "precision = sklearn.metrics.precision_score(y_test,y_pred)\n",
        "f1_score = (2*precision*recall)/(precision+recall)\n",
        "print(\"The Precision is: \",precision)\n",
        "print(\"The Recall is: \",recall)\n",
        "print(\"The F1 Score is: \",f1_score)"
      ],
      "execution_count": null,
      "outputs": [
        {
          "output_type": "stream",
          "text": [
            "The Precision is:  0.9182389937106918\n",
            "The Recall is:  0.948051948051948\n",
            "The F1 Score is:  0.9329073482428114\n"
          ],
          "name": "stdout"
        }
      ]
    },
    {
      "cell_type": "markdown",
      "metadata": {
        "id": "mc6Vn4ZmZLi3"
      },
      "source": [
        "Using Random Forest  Classifier"
      ]
    },
    {
      "cell_type": "code",
      "metadata": {
        "colab": {
          "base_uri": "https://localhost:8080/"
        },
        "id": "gORq1MXVfBfz",
        "outputId": "e3b8b799-93a5-4896-9854-0f907d50990c"
      },
      "source": [
        "from sklearn.ensemble import RandomForestClassifier\n",
        "rf = RandomForestClassifier(n_estimators=128,bootstrap=False)\n",
        "fitted_rf  = rf.fit(x_train,y_train)\n",
        "y_pred = rf.predict(x_test)\n",
        "recall = sklearn.metrics.recall_score(y_test, y_pred)\n",
        "precision = sklearn.metrics.precision_score(y_test,y_pred)\n",
        "f1_score = (2*precision*recall)/(precision+recall)\n",
        "print(\"The Precision is: \",precision)\n",
        "print(\"The Recall is: \",recall)\n",
        "print(\"The F1 Score is: \",f1_score)"
      ],
      "execution_count": null,
      "outputs": [
        {
          "output_type": "stream",
          "text": [
            "/usr/local/lib/python3.6/dist-packages/ipykernel_launcher.py:3: DataConversionWarning: A column-vector y was passed when a 1d array was expected. Please change the shape of y to (n_samples,), for example using ravel().\n",
            "  This is separate from the ipykernel package so we can avoid doing imports until\n"
          ],
          "name": "stderr"
        }
      ]
    },
    {
      "cell_type": "markdown",
      "metadata": {
        "id": "xA-eqjR_ZRwB"
      },
      "source": [
        "Using XGBoost Classifier"
      ]
    },
    {
      "cell_type": "code",
      "metadata": {
        "colab": {
          "base_uri": "https://localhost:8080/"
        },
        "id": "kb1FMk9BjTfU",
        "outputId": "1ea254a4-a8c7-4c98-ecfa-e5464c39aa9f"
      },
      "source": [
        "from xgboost import XGBClassifier\n",
        "xgb = XGBClassifier(n_estimators=128,bootstrap=False)\n",
        "xgb_fit = xgb.fit(x_train,y_train)\n",
        "y_pred1 = xgb.predict(x_test)\n",
        "recall = sklearn.metrics.recall_score(y_test, y_pred1)\n",
        "precision = sklearn.metrics.precision_score(y_test,y_pred1)\n",
        "f1_score = (2*precision*recall)/(precision+recall)\n",
        "print(\"The Precision is: \",precision)\n",
        "print(\"The Recall is: \",recall)\n",
        "print(\"The F1 Score is: \",f1_score)\n",
        "print(\"The Accuracy is:\",xgb_fit.score(x_test,y_test))"
      ],
      "execution_count": null,
      "outputs": [
        {
          "output_type": "stream",
          "text": [
            "/usr/local/lib/python3.6/dist-packages/sklearn/preprocessing/_label.py:235: DataConversionWarning: A column-vector y was passed when a 1d array was expected. Please change the shape of y to (n_samples, ), for example using ravel().\n",
            "  y = column_or_1d(y, warn=True)\n",
            "/usr/local/lib/python3.6/dist-packages/sklearn/preprocessing/_label.py:268: DataConversionWarning: A column-vector y was passed when a 1d array was expected. Please change the shape of y to (n_samples, ), for example using ravel().\n",
            "  y = column_or_1d(y, warn=True)\n"
          ],
          "name": "stderr"
        }
      ]
    },
    {
      "cell_type": "markdown",
      "metadata": {
        "id": "arlZ2KR3ZYY_"
      },
      "source": [
        "Building a Deep Neural Network"
      ]
    },
    {
      "cell_type": "code",
      "metadata": {
        "id": "k8ciaaCFly8l"
      },
      "source": [
        "from keras.layers import Dense,Input\n",
        "from keras.models import Model\n",
        "\n",
        "def asteroid(input_shape=(21,)):\n",
        "\n",
        "  X_input = Input(shape=input_shape)\n",
        "  X = Dense(units=16,activation='relu')(X_input)\n",
        "  X = Dense(units=8,activation=\"relu\")(X)\n",
        "  X = Dense(units=1,activation='sigmoid')(X)\n",
        "\n",
        "  model = Model(inputs=X_input,outputs=X)\n",
        "\n",
        "  return model"
      ],
      "execution_count": null,
      "outputs": []
    },
    {
      "cell_type": "code",
      "metadata": {
        "id": "XiqvvoEcpQId"
      },
      "source": [
        "asteroid = asteroid()"
      ],
      "execution_count": null,
      "outputs": []
    },
    {
      "cell_type": "code",
      "metadata": {
        "id": "ZEzchHyan0qv"
      },
      "source": [
        "import keras.backend as K\n",
        "def f1(y_true, y_pred): #taken from old keras source code\n",
        "    true_positives = K.sum(K.round(K.clip(y_true * y_pred, 0, 1)))\n",
        "    possible_positives = K.sum(K.round(K.clip(y_true, 0, 1)))\n",
        "    predicted_positives = K.sum(K.round(K.clip(y_pred, 0, 1)))\n",
        "    precision = true_positives / (predicted_positives + K.epsilon())\n",
        "    recall = true_positives / (possible_positives + K.epsilon())\n",
        "    f1_val = 2*(precision*recall)/(precision+recall+K.epsilon())\n",
        "    return f1_val,precision,recall\n",
        "def precision(y_true, y_pred): #taken from old keras source code\n",
        "    true_positives = K.sum(K.round(K.clip(y_true * y_pred, 0, 1)))\n",
        "    possible_positives = K.sum(K.round(K.clip(y_true, 0, 1)))\n",
        "    predicted_positives = K.sum(K.round(K.clip(y_pred, 0, 1)))\n",
        "    precision = true_positives / (predicted_positives + K.epsilon())\n",
        "    recall = true_positives / (possible_positives + K.epsilon())\n",
        "    return precision   \n",
        "def recall(y_true, y_pred): #taken from old keras source code\n",
        "    true_positives = K.sum(K.round(K.clip(y_true * y_pred, 0, 1)))\n",
        "    possible_positives = K.sum(K.round(K.clip(y_true, 0, 1)))\n",
        "    predicted_positives = K.sum(K.round(K.clip(y_pred, 0, 1)))\n",
        "    precision = true_positives / (predicted_positives + K.epsilon())\n",
        "    recall = true_positives / (possible_positives + K.epsilon())\n",
        "    return recall   "
      ],
      "execution_count": null,
      "outputs": []
    },
    {
      "cell_type": "code",
      "metadata": {
        "id": "HHeQXRRmpckd"
      },
      "source": [
        "asteroid.compile(optimizer='adam',loss=\"binary_crossentropy\",metrics=['accuracy',f1,precision,recall])"
      ],
      "execution_count": null,
      "outputs": []
    },
    {
      "cell_type": "markdown",
      "metadata": {
        "id": "bsvQ2fH1ZhgW"
      },
      "source": [
        "Training Neural Network"
      ]
    },
    {
      "cell_type": "code",
      "metadata": {
        "colab": {
          "base_uri": "https://localhost:8080/"
        },
        "id": "VXnj7OsxpvWH",
        "outputId": "968aebd8-9fe6-4179-e40b-03a71e0cb7a9"
      },
      "source": [
        "asteroid.fit(x=x_train,y=y_train,epochs=100)"
      ],
      "execution_count": null,
      "outputs": [
        {
          "output_type": "stream",
          "text": [
            "Epoch 1/100\n",
            "197/197 [==============================] - 0s 1ms/step - loss: 0.6930 - accuracy: 0.5484 - f1: 0.5633 - precision: 0.5777 - recall: 0.5582\n",
            "Epoch 2/100\n",
            "197/197 [==============================] - 0s 1ms/step - loss: 0.4724 - accuracy: 0.8081 - f1: 0.8065 - precision: 0.8092 - recall: 0.8073\n",
            "Epoch 3/100\n",
            "197/197 [==============================] - 0s 1ms/step - loss: 0.2410 - accuracy: 0.9111 - f1: 0.9138 - precision: 0.8867 - recall: 0.9433\n",
            "Epoch 4/100\n",
            "197/197 [==============================] - 0s 1ms/step - loss: 0.1366 - accuracy: 0.9512 - f1: 0.9526 - precision: 0.9327 - recall: 0.9736\n",
            "Epoch 5/100\n",
            "197/197 [==============================] - 0s 1ms/step - loss: 0.0993 - accuracy: 0.9649 - f1: 0.9655 - precision: 0.9454 - recall: 0.9867\n",
            "Epoch 6/100\n",
            "197/197 [==============================] - 0s 1ms/step - loss: 0.0816 - accuracy: 0.9693 - f1: 0.9698 - precision: 0.9551 - recall: 0.9853\n",
            "Epoch 7/100\n",
            "197/197 [==============================] - 0s 1ms/step - loss: 0.0699 - accuracy: 0.9730 - f1: 0.9728 - precision: 0.9585 - recall: 0.9877\n",
            "Epoch 8/100\n",
            "197/197 [==============================] - 0s 1ms/step - loss: 0.0619 - accuracy: 0.9773 - f1: 0.9764 - precision: 0.9641 - recall: 0.9894\n",
            "Epoch 9/100\n",
            "197/197 [==============================] - 0s 1ms/step - loss: 0.0557 - accuracy: 0.9804 - f1: 0.9806 - precision: 0.9695 - recall: 0.9922\n",
            "Epoch 10/100\n",
            "197/197 [==============================] - 0s 1ms/step - loss: 0.0503 - accuracy: 0.9827 - f1: 0.9824 - precision: 0.9741 - recall: 0.9912\n",
            "Epoch 11/100\n",
            "197/197 [==============================] - 0s 1ms/step - loss: 0.0471 - accuracy: 0.9838 - f1: 0.9840 - precision: 0.9764 - recall: 0.9920\n",
            "Epoch 12/100\n",
            "197/197 [==============================] - 0s 1ms/step - loss: 0.0430 - accuracy: 0.9854 - f1: 0.9854 - precision: 0.9779 - recall: 0.9934\n",
            "Epoch 13/100\n",
            "197/197 [==============================] - 0s 1ms/step - loss: 0.0393 - accuracy: 0.9873 - f1: 0.9873 - precision: 0.9789 - recall: 0.9960\n",
            "Epoch 14/100\n",
            "197/197 [==============================] - 0s 1ms/step - loss: 0.0391 - accuracy: 0.9881 - f1: 0.9884 - precision: 0.9827 - recall: 0.9944\n",
            "Epoch 15/100\n",
            "197/197 [==============================] - 0s 1ms/step - loss: 0.0350 - accuracy: 0.9890 - f1: 0.9891 - precision: 0.9831 - recall: 0.9954\n",
            "Epoch 16/100\n",
            "197/197 [==============================] - 0s 1ms/step - loss: 0.0320 - accuracy: 0.9903 - f1: 0.9904 - precision: 0.9829 - recall: 0.9982\n",
            "Epoch 17/100\n",
            "197/197 [==============================] - 0s 1ms/step - loss: 0.0309 - accuracy: 0.9903 - f1: 0.9905 - precision: 0.9849 - recall: 0.9963\n",
            "Epoch 18/100\n",
            "197/197 [==============================] - 0s 1ms/step - loss: 0.0283 - accuracy: 0.9906 - f1: 0.9908 - precision: 0.9848 - recall: 0.9970\n",
            "Epoch 19/100\n",
            "197/197 [==============================] - 0s 1ms/step - loss: 0.0270 - accuracy: 0.9916 - f1: 0.9918 - precision: 0.9870 - recall: 0.9968\n",
            "Epoch 20/100\n",
            "197/197 [==============================] - 0s 1ms/step - loss: 0.0254 - accuracy: 0.9927 - f1: 0.9930 - precision: 0.9885 - recall: 0.9976\n",
            "Epoch 21/100\n",
            "197/197 [==============================] - 0s 1ms/step - loss: 0.0243 - accuracy: 0.9924 - f1: 0.9921 - precision: 0.9863 - recall: 0.9980\n",
            "Epoch 22/100\n",
            "197/197 [==============================] - 0s 1ms/step - loss: 0.0222 - accuracy: 0.9925 - f1: 0.9928 - precision: 0.9879 - recall: 0.9979\n",
            "Epoch 23/100\n",
            "197/197 [==============================] - 0s 1ms/step - loss: 0.0210 - accuracy: 0.9943 - f1: 0.9940 - precision: 0.9904 - recall: 0.9977\n",
            "Epoch 24/100\n",
            "197/197 [==============================] - 0s 1ms/step - loss: 0.0203 - accuracy: 0.9936 - f1: 0.9934 - precision: 0.9889 - recall: 0.9980\n",
            "Epoch 25/100\n",
            "197/197 [==============================] - 0s 1ms/step - loss: 0.0193 - accuracy: 0.9944 - f1: 0.9946 - precision: 0.9912 - recall: 0.9981\n",
            "Epoch 26/100\n",
            "197/197 [==============================] - 0s 1ms/step - loss: 0.0184 - accuracy: 0.9944 - f1: 0.9944 - precision: 0.9907 - recall: 0.9982\n",
            "Epoch 27/100\n",
            "197/197 [==============================] - 0s 1ms/step - loss: 0.0169 - accuracy: 0.9948 - f1: 0.9947 - precision: 0.9914 - recall: 0.9981\n",
            "Epoch 28/100\n",
            "197/197 [==============================] - 0s 1ms/step - loss: 0.0159 - accuracy: 0.9959 - f1: 0.9959 - precision: 0.9933 - recall: 0.9987\n",
            "Epoch 29/100\n",
            "197/197 [==============================] - 0s 1ms/step - loss: 0.0164 - accuracy: 0.9948 - f1: 0.9947 - precision: 0.9919 - recall: 0.9976\n",
            "Epoch 30/100\n",
            "197/197 [==============================] - 0s 1ms/step - loss: 0.0150 - accuracy: 0.9957 - f1: 0.9958 - precision: 0.9930 - recall: 0.9988\n",
            "Epoch 31/100\n",
            "197/197 [==============================] - 0s 1ms/step - loss: 0.0150 - accuracy: 0.9948 - f1: 0.9950 - precision: 0.9919 - recall: 0.9981\n",
            "Epoch 32/100\n",
            "197/197 [==============================] - 0s 1ms/step - loss: 0.0143 - accuracy: 0.9960 - f1: 0.9960 - precision: 0.9935 - recall: 0.9986\n",
            "Epoch 33/100\n",
            "197/197 [==============================] - 0s 1ms/step - loss: 0.0135 - accuracy: 0.9952 - f1: 0.9955 - precision: 0.9928 - recall: 0.9982\n",
            "Epoch 34/100\n",
            "197/197 [==============================] - 0s 1ms/step - loss: 0.0124 - accuracy: 0.9959 - f1: 0.9958 - precision: 0.9935 - recall: 0.9982\n",
            "Epoch 35/100\n",
            "197/197 [==============================] - 0s 1ms/step - loss: 0.0135 - accuracy: 0.9959 - f1: 0.9959 - precision: 0.9941 - recall: 0.9978\n",
            "Epoch 36/100\n",
            "197/197 [==============================] - 0s 1ms/step - loss: 0.0118 - accuracy: 0.9965 - f1: 0.9966 - precision: 0.9948 - recall: 0.9986\n",
            "Epoch 37/100\n",
            "197/197 [==============================] - 0s 1ms/step - loss: 0.0112 - accuracy: 0.9968 - f1: 0.9967 - precision: 0.9942 - recall: 0.9993\n",
            "Epoch 38/100\n",
            "197/197 [==============================] - 0s 1ms/step - loss: 0.0107 - accuracy: 0.9968 - f1: 0.9969 - precision: 0.9949 - recall: 0.9990\n",
            "Epoch 39/100\n",
            "197/197 [==============================] - 0s 1ms/step - loss: 0.0103 - accuracy: 0.9970 - f1: 0.9967 - precision: 0.9947 - recall: 0.9987\n",
            "Epoch 40/100\n",
            "197/197 [==============================] - 0s 1ms/step - loss: 0.0096 - accuracy: 0.9976 - f1: 0.9975 - precision: 0.9953 - recall: 0.9997\n",
            "Epoch 41/100\n",
            "197/197 [==============================] - 0s 1ms/step - loss: 0.0099 - accuracy: 0.9971 - f1: 0.9972 - precision: 0.9954 - recall: 0.9990\n",
            "Epoch 42/100\n",
            "197/197 [==============================] - 0s 1ms/step - loss: 0.0101 - accuracy: 0.9967 - f1: 0.9967 - precision: 0.9948 - recall: 0.9986\n",
            "Epoch 43/100\n",
            "197/197 [==============================] - 0s 1ms/step - loss: 0.0094 - accuracy: 0.9970 - f1: 0.9968 - precision: 0.9949 - recall: 0.9987\n",
            "Epoch 44/100\n",
            "197/197 [==============================] - 0s 1ms/step - loss: 0.0094 - accuracy: 0.9970 - f1: 0.9967 - precision: 0.9949 - recall: 0.9986\n",
            "Epoch 45/100\n",
            "197/197 [==============================] - 0s 1ms/step - loss: 0.0088 - accuracy: 0.9970 - f1: 0.9972 - precision: 0.9956 - recall: 0.9989\n",
            "Epoch 46/100\n",
            "197/197 [==============================] - 0s 1ms/step - loss: 0.0087 - accuracy: 0.9967 - f1: 0.9965 - precision: 0.9941 - recall: 0.9990\n",
            "Epoch 47/100\n",
            "197/197 [==============================] - 0s 1ms/step - loss: 0.0086 - accuracy: 0.9973 - f1: 0.9974 - precision: 0.9955 - recall: 0.9994\n",
            "Epoch 48/100\n",
            "197/197 [==============================] - 0s 1ms/step - loss: 0.0079 - accuracy: 0.9970 - f1: 0.9969 - precision: 0.9950 - recall: 0.9988\n",
            "Epoch 49/100\n",
            "197/197 [==============================] - 0s 1ms/step - loss: 0.0074 - accuracy: 0.9976 - f1: 0.9976 - precision: 0.9960 - recall: 0.9993\n",
            "Epoch 50/100\n",
            "197/197 [==============================] - 0s 1ms/step - loss: 0.0070 - accuracy: 0.9983 - f1: 0.9983 - precision: 0.9969 - recall: 0.9997\n",
            "Epoch 51/100\n",
            "197/197 [==============================] - 0s 1ms/step - loss: 0.0068 - accuracy: 0.9979 - f1: 0.9978 - precision: 0.9962 - recall: 0.9994\n",
            "Epoch 52/100\n",
            "197/197 [==============================] - 0s 1ms/step - loss: 0.0064 - accuracy: 0.9981 - f1: 0.9981 - precision: 0.9964 - recall: 0.9998\n",
            "Epoch 53/100\n",
            "197/197 [==============================] - 0s 1ms/step - loss: 0.0075 - accuracy: 0.9973 - f1: 0.9975 - precision: 0.9956 - recall: 0.9994\n",
            "Epoch 54/100\n",
            "197/197 [==============================] - 0s 1ms/step - loss: 0.0064 - accuracy: 0.9976 - f1: 0.9978 - precision: 0.9968 - recall: 0.9988\n",
            "Epoch 55/100\n",
            "197/197 [==============================] - 0s 1ms/step - loss: 0.0064 - accuracy: 0.9979 - f1: 0.9979 - precision: 0.9966 - recall: 0.9994\n",
            "Epoch 56/100\n",
            "197/197 [==============================] - 0s 1ms/step - loss: 0.0065 - accuracy: 0.9979 - f1: 0.9980 - precision: 0.9970 - recall: 0.9990\n",
            "Epoch 57/100\n",
            "197/197 [==============================] - 0s 1ms/step - loss: 0.0055 - accuracy: 0.9984 - f1: 0.9985 - precision: 0.9973 - recall: 0.9997\n",
            "Epoch 58/100\n",
            "197/197 [==============================] - 0s 1ms/step - loss: 0.0056 - accuracy: 0.9981 - f1: 0.9983 - precision: 0.9971 - recall: 0.9994\n",
            "Epoch 59/100\n",
            "197/197 [==============================] - 0s 1ms/step - loss: 0.0050 - accuracy: 0.9986 - f1: 0.9986 - precision: 0.9975 - recall: 0.9997\n",
            "Epoch 60/100\n",
            "197/197 [==============================] - 0s 1ms/step - loss: 0.0053 - accuracy: 0.9984 - f1: 0.9985 - precision: 0.9973 - recall: 0.9997\n",
            "Epoch 61/100\n",
            "197/197 [==============================] - 0s 1ms/step - loss: 0.0052 - accuracy: 0.9984 - f1: 0.9983 - precision: 0.9970 - recall: 0.9997\n",
            "Epoch 62/100\n",
            "197/197 [==============================] - 0s 1ms/step - loss: 0.0048 - accuracy: 0.9983 - f1: 0.9984 - precision: 0.9975 - recall: 0.9994\n",
            "Epoch 63/100\n",
            "197/197 [==============================] - 0s 1ms/step - loss: 0.0042 - accuracy: 0.9987 - f1: 0.9988 - precision: 0.9981 - recall: 0.9995\n",
            "Epoch 64/100\n",
            "197/197 [==============================] - 0s 1ms/step - loss: 0.0044 - accuracy: 0.9984 - f1: 0.9984 - precision: 0.9975 - recall: 0.9994\n",
            "Epoch 65/100\n",
            "197/197 [==============================] - 0s 1ms/step - loss: 0.0041 - accuracy: 0.9990 - f1: 0.9990 - precision: 0.9981 - recall: 1.0000\n",
            "Epoch 66/100\n",
            "197/197 [==============================] - 0s 1ms/step - loss: 0.0040 - accuracy: 0.9987 - f1: 0.9988 - precision: 0.9980 - recall: 0.9996\n",
            "Epoch 67/100\n",
            "197/197 [==============================] - 0s 1ms/step - loss: 0.0037 - accuracy: 0.9990 - f1: 0.9990 - precision: 0.9984 - recall: 0.9997\n",
            "Epoch 68/100\n",
            "197/197 [==============================] - 0s 1ms/step - loss: 0.0036 - accuracy: 0.9989 - f1: 0.9988 - precision: 0.9977 - recall: 1.0000\n",
            "Epoch 69/100\n",
            "197/197 [==============================] - 0s 1ms/step - loss: 0.0032 - accuracy: 0.9992 - f1: 0.9990 - precision: 0.9981 - recall: 1.0000\n",
            "Epoch 70/100\n",
            "197/197 [==============================] - 0s 1ms/step - loss: 0.0036 - accuracy: 0.9990 - f1: 0.9991 - precision: 0.9982 - recall: 1.0000\n",
            "Epoch 71/100\n",
            "197/197 [==============================] - 0s 1ms/step - loss: 0.0030 - accuracy: 0.9992 - f1: 0.9992 - precision: 0.9985 - recall: 1.0000\n",
            "Epoch 72/100\n",
            "197/197 [==============================] - 0s 1ms/step - loss: 0.0029 - accuracy: 0.9995 - f1: 0.9995 - precision: 0.9994 - recall: 0.9996\n",
            "Epoch 73/100\n",
            "197/197 [==============================] - 0s 1ms/step - loss: 0.0033 - accuracy: 0.9992 - f1: 0.9992 - precision: 0.9987 - recall: 0.9997\n",
            "Epoch 74/100\n",
            "197/197 [==============================] - 0s 1ms/step - loss: 0.0026 - accuracy: 0.9994 - f1: 0.9993 - precision: 0.9986 - recall: 1.0000\n",
            "Epoch 75/100\n",
            "197/197 [==============================] - 0s 1ms/step - loss: 0.0037 - accuracy: 0.9989 - f1: 0.9990 - precision: 0.9983 - recall: 0.9997\n",
            "Epoch 76/100\n",
            "197/197 [==============================] - 0s 1ms/step - loss: 0.0025 - accuracy: 0.9992 - f1: 0.9992 - precision: 0.9987 - recall: 0.9996\n",
            "Epoch 77/100\n",
            "197/197 [==============================] - 0s 1ms/step - loss: 0.0025 - accuracy: 0.9994 - f1: 0.9993 - precision: 0.9986 - recall: 1.0000\n",
            "Epoch 78/100\n",
            "197/197 [==============================] - 0s 1ms/step - loss: 0.0020 - accuracy: 0.9997 - f1: 0.9997 - precision: 0.9994 - recall: 1.0000\n",
            "Epoch 79/100\n",
            "197/197 [==============================] - 0s 1ms/step - loss: 0.0019 - accuracy: 0.9997 - f1: 0.9997 - precision: 0.9994 - recall: 1.0000\n",
            "Epoch 80/100\n",
            "197/197 [==============================] - 0s 1ms/step - loss: 0.0022 - accuracy: 0.9995 - f1: 0.9996 - precision: 0.9992 - recall: 1.0000\n",
            "Epoch 81/100\n",
            "197/197 [==============================] - 0s 1ms/step - loss: 0.0038 - accuracy: 0.9984 - f1: 0.9981 - precision: 0.9973 - recall: 0.9991\n",
            "Epoch 82/100\n",
            "197/197 [==============================] - 0s 1ms/step - loss: 0.0039 - accuracy: 0.9979 - f1: 0.9980 - precision: 0.9969 - recall: 0.9992\n",
            "Epoch 83/100\n",
            "197/197 [==============================] - 0s 1ms/step - loss: 0.0023 - accuracy: 0.9994 - f1: 0.9994 - precision: 0.9988 - recall: 1.0000\n",
            "Epoch 84/100\n",
            "197/197 [==============================] - 0s 1ms/step - loss: 0.0018 - accuracy: 0.9995 - f1: 0.9995 - precision: 0.9990 - recall: 1.0000\n",
            "Epoch 85/100\n",
            "197/197 [==============================] - 0s 1ms/step - loss: 0.0019 - accuracy: 0.9995 - f1: 0.9995 - precision: 0.9990 - recall: 1.0000\n",
            "Epoch 86/100\n",
            "197/197 [==============================] - 0s 1ms/step - loss: 0.0015 - accuracy: 0.9997 - f1: 0.9995 - precision: 0.9991 - recall: 1.0000\n",
            "Epoch 87/100\n",
            "197/197 [==============================] - 0s 1ms/step - loss: 0.0014 - accuracy: 0.9997 - f1: 0.9997 - precision: 0.9995 - recall: 1.0000\n",
            "Epoch 88/100\n",
            "197/197 [==============================] - 0s 1ms/step - loss: 0.0014 - accuracy: 0.9997 - f1: 0.9997 - precision: 0.9994 - recall: 1.0000\n",
            "Epoch 89/100\n",
            "197/197 [==============================] - 0s 1ms/step - loss: 0.0017 - accuracy: 0.9997 - f1: 0.9997 - precision: 0.9994 - recall: 1.0000\n",
            "Epoch 90/100\n",
            "197/197 [==============================] - 0s 1ms/step - loss: 0.0021 - accuracy: 0.9992 - f1: 0.9992 - precision: 0.9987 - recall: 0.9997\n",
            "Epoch 91/100\n",
            "197/197 [==============================] - 0s 1ms/step - loss: 0.0017 - accuracy: 0.9994 - f1: 0.9993 - precision: 0.9986 - recall: 1.0000\n",
            "Epoch 92/100\n",
            "197/197 [==============================] - 0s 1ms/step - loss: 0.0014 - accuracy: 0.9997 - f1: 0.9997 - precision: 0.9994 - recall: 1.0000\n",
            "Epoch 93/100\n",
            "197/197 [==============================] - 0s 1ms/step - loss: 0.0012 - accuracy: 0.9997 - f1: 0.9996 - precision: 0.9992 - recall: 1.0000\n",
            "Epoch 94/100\n",
            "197/197 [==============================] - 0s 1ms/step - loss: 0.0014 - accuracy: 0.9995 - f1: 0.9995 - precision: 0.9990 - recall: 1.0000\n",
            "Epoch 95/100\n",
            "197/197 [==============================] - 0s 1ms/step - loss: 0.0069 - accuracy: 0.9975 - f1: 0.9973 - precision: 0.9975 - recall: 0.9973\n",
            "Epoch 96/100\n",
            "197/197 [==============================] - 0s 1ms/step - loss: 0.0045 - accuracy: 0.9979 - f1: 0.9979 - precision: 0.9967 - recall: 0.9992\n",
            "Epoch 97/100\n",
            "197/197 [==============================] - 0s 1ms/step - loss: 0.0014 - accuracy: 0.9995 - f1: 0.9995 - precision: 0.9990 - recall: 1.0000\n",
            "Epoch 98/100\n",
            "197/197 [==============================] - 0s 1ms/step - loss: 0.0011 - accuracy: 0.9997 - f1: 0.9997 - precision: 0.9994 - recall: 1.0000\n",
            "Epoch 99/100\n",
            "197/197 [==============================] - 0s 1ms/step - loss: 0.0011 - accuracy: 0.9997 - f1: 0.9996 - precision: 0.9993 - recall: 1.0000\n",
            "Epoch 100/100\n",
            "197/197 [==============================] - 0s 1ms/step - loss: 9.8806e-04 - accuracy: 0.9997 - f1: 0.9997 - precision: 0.9994 - recall: 1.0000\n"
          ],
          "name": "stdout"
        },
        {
          "output_type": "execute_result",
          "data": {
            "text/plain": [
              "<tensorflow.python.keras.callbacks.History at 0x7f1cc8990518>"
            ]
          },
          "metadata": {
            "tags": []
          },
          "execution_count": 37
        }
      ]
    },
    {
      "cell_type": "code",
      "metadata": {
        "id": "_rdi0FKwp0xf"
      },
      "source": [
        "y_pred = asteroid.predict(x=x_test)"
      ],
      "execution_count": null,
      "outputs": []
    },
    {
      "cell_type": "markdown",
      "metadata": {
        "id": "QdUTciboZx5a"
      },
      "source": [
        "Plotting Confusion Matrix for Neural Network"
      ]
    },
    {
      "cell_type": "code",
      "metadata": {
        "id": "aov3c5PVnwGQ"
      },
      "source": [
        "for i in range(len(y_pred)):\r\n",
        "\r\n",
        "  if (y_pred[i] >= 0.5):\r\n",
        "    y_pred[i]=1\r\n",
        "  else :\r\n",
        "    y_pred[i] = 0\r\n",
        "matrix = sklearn.metrics.confusion_matrix(y_test, y_pred)\r\n",
        "import seaborn\r\n",
        "seaborn.heatmap(matrix,annot=True,fmt='d')"
      ],
      "execution_count": null,
      "outputs": []
    }
  ]
}